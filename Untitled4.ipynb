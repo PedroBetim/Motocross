{
  "nbformat": 4,
  "nbformat_minor": 0,
  "metadata": {
    "colab": {
      "provenance": [],
      "authorship_tag": "ABX9TyOK1YuFmWVEyxhP+KrE7mab",
      "include_colab_link": true
    },
    "kernelspec": {
      "name": "python3",
      "display_name": "Python 3"
    },
    "language_info": {
      "name": "python"
    }
  },
  "cells": [
    {
      "cell_type": "markdown",
      "metadata": {
        "id": "view-in-github",
        "colab_type": "text"
      },
      "source": [
        "<a href=\"https://colab.research.google.com/github/PedroBetim/Motocross/blob/main/Untitled4.ipynb\" target=\"_parent\"><img src=\"https://colab.research.google.com/assets/colab-badge.svg\" alt=\"Open In Colab\"/></a>"
      ]
    },
    {
      "cell_type": "markdown",
      "source": [
        "##AVALIAÇÃO - QUESTIONÁRIO COLAB/PYTHON PROFESSOR NORI P.C.ATIVIDADE 1"
      ],
      "metadata": {
        "id": "Eeeh2H71w_lU"
      }
    },
    {
      "cell_type": "code",
      "execution_count": null,
      "metadata": {
        "id": "kVde87bEutWY"
      },
      "outputs": [],
      "source": [
        "nome = input (\"Digite seu nome:\")\n",
        "print (f\"Olá, {nome}! Qual é sua dúvida, caro estudande?\")\n",
        "resposta = input(\"Escolha um assunto: Inglês, Matemática, História, Portugês? \").strip().lower()\n",
        "if resposta == \"inglês\":\n",
        "    print(\"Tranquilo, vamos falar sobre inglês! Essa língua é muito importante!\")\n",
        "elif resposta == \"matemática\":\n",
        "    print(\"Vamos resolver algumas questões então!\")\n",
        "elif resposta == \"história\":\n",
        "  print(\"Quer saber algo histórico!\")\n",
        "elif resposta == \"portugês\":"
      ]
    }
  ]
}